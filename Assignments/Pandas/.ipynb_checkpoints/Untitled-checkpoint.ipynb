{
 "cells": [
  {
   "cell_type": "code",
   "execution_count": 15,
   "metadata": {},
   "outputs": [],
   "source": [
    "#Importing the modules required for this program\n",
    "import csv\n",
    "import pandas as pd\n",
    "import numpy as np"
   ]
  },
  {
   "cell_type": "code",
   "execution_count": 16,
   "metadata": {},
   "outputs": [],
   "source": [
    "#Importing the CSV file\n",
    "data = pd.read_csv('/Users/bhanuchanderkureti/Bhanu/ITMD_513/Assignments/Pandas/titanic.csv')\n",
    "df = pd.DataFrame(data)"
   ]
  },
  {
   "cell_type": "code",
   "execution_count": 17,
   "metadata": {},
   "outputs": [
    {
     "data": {
      "text/html": [
       "<div>\n",
       "<style scoped>\n",
       "    .dataframe tbody tr th:only-of-type {\n",
       "        vertical-align: middle;\n",
       "    }\n",
       "\n",
       "    .dataframe tbody tr th {\n",
       "        vertical-align: top;\n",
       "    }\n",
       "\n",
       "    .dataframe thead th {\n",
       "        text-align: right;\n",
       "    }\n",
       "</style>\n",
       "<table border=\"1\" class=\"dataframe\">\n",
       "  <thead>\n",
       "    <tr style=\"text-align: right;\">\n",
       "      <th></th>\n",
       "      <th>PassengerId</th>\n",
       "      <th>Survived</th>\n",
       "      <th>Pclass</th>\n",
       "      <th>Name</th>\n",
       "      <th>Sex</th>\n",
       "      <th>Age</th>\n",
       "      <th>SibSp</th>\n",
       "      <th>Parch</th>\n",
       "      <th>Ticket</th>\n",
       "      <th>Fare</th>\n",
       "      <th>Cabin</th>\n",
       "      <th>Embarked</th>\n",
       "    </tr>\n",
       "  </thead>\n",
       "  <tbody>\n",
       "    <tr>\n",
       "      <td>0</td>\n",
       "      <td>1</td>\n",
       "      <td>0</td>\n",
       "      <td>3</td>\n",
       "      <td>Braund, Mr. Owen Harris</td>\n",
       "      <td>male</td>\n",
       "      <td>22.0</td>\n",
       "      <td>1</td>\n",
       "      <td>0</td>\n",
       "      <td>A/5 21171</td>\n",
       "      <td>7.2500</td>\n",
       "      <td>NaN</td>\n",
       "      <td>S</td>\n",
       "    </tr>\n",
       "    <tr>\n",
       "      <td>1</td>\n",
       "      <td>2</td>\n",
       "      <td>1</td>\n",
       "      <td>1</td>\n",
       "      <td>Cumings, Mrs. John Bradley (Florence Briggs Th...</td>\n",
       "      <td>female</td>\n",
       "      <td>38.0</td>\n",
       "      <td>1</td>\n",
       "      <td>0</td>\n",
       "      <td>PC 17599</td>\n",
       "      <td>71.2833</td>\n",
       "      <td>C85</td>\n",
       "      <td>C</td>\n",
       "    </tr>\n",
       "    <tr>\n",
       "      <td>2</td>\n",
       "      <td>3</td>\n",
       "      <td>1</td>\n",
       "      <td>3</td>\n",
       "      <td>Heikkinen, Miss. Laina</td>\n",
       "      <td>female</td>\n",
       "      <td>26.0</td>\n",
       "      <td>0</td>\n",
       "      <td>0</td>\n",
       "      <td>STON/O2. 3101282</td>\n",
       "      <td>7.9250</td>\n",
       "      <td>NaN</td>\n",
       "      <td>S</td>\n",
       "    </tr>\n",
       "    <tr>\n",
       "      <td>3</td>\n",
       "      <td>4</td>\n",
       "      <td>1</td>\n",
       "      <td>1</td>\n",
       "      <td>Futrelle, Mrs. Jacques Heath (Lily May Peel)</td>\n",
       "      <td>female</td>\n",
       "      <td>35.0</td>\n",
       "      <td>1</td>\n",
       "      <td>0</td>\n",
       "      <td>113803</td>\n",
       "      <td>53.1000</td>\n",
       "      <td>C123</td>\n",
       "      <td>S</td>\n",
       "    </tr>\n",
       "    <tr>\n",
       "      <td>4</td>\n",
       "      <td>5</td>\n",
       "      <td>0</td>\n",
       "      <td>3</td>\n",
       "      <td>Allen, Mr. William Henry</td>\n",
       "      <td>male</td>\n",
       "      <td>35.0</td>\n",
       "      <td>0</td>\n",
       "      <td>0</td>\n",
       "      <td>373450</td>\n",
       "      <td>8.0500</td>\n",
       "      <td>NaN</td>\n",
       "      <td>S</td>\n",
       "    </tr>\n",
       "  </tbody>\n",
       "</table>\n",
       "</div>"
      ],
      "text/plain": [
       "   PassengerId  Survived  Pclass  \\\n",
       "0            1         0       3   \n",
       "1            2         1       1   \n",
       "2            3         1       3   \n",
       "3            4         1       1   \n",
       "4            5         0       3   \n",
       "\n",
       "                                                Name     Sex   Age  SibSp  \\\n",
       "0                            Braund, Mr. Owen Harris    male  22.0      1   \n",
       "1  Cumings, Mrs. John Bradley (Florence Briggs Th...  female  38.0      1   \n",
       "2                             Heikkinen, Miss. Laina  female  26.0      0   \n",
       "3       Futrelle, Mrs. Jacques Heath (Lily May Peel)  female  35.0      1   \n",
       "4                           Allen, Mr. William Henry    male  35.0      0   \n",
       "\n",
       "   Parch            Ticket     Fare Cabin Embarked  \n",
       "0      0         A/5 21171   7.2500   NaN        S  \n",
       "1      0          PC 17599  71.2833   C85        C  \n",
       "2      0  STON/O2. 3101282   7.9250   NaN        S  \n",
       "3      0            113803  53.1000  C123        S  \n",
       "4      0            373450   8.0500   NaN        S  "
      ]
     },
     "execution_count": 17,
     "metadata": {},
     "output_type": "execute_result"
    }
   ],
   "source": [
    "#List columns and rows of data frame\n",
    "df.head()"
   ]
  },
  {
   "cell_type": "code",
   "execution_count": 92,
   "metadata": {},
   "outputs": [
    {
     "name": "stdout",
     "output_type": "stream",
     "text": [
      "Total number of passengers:\n",
      "891\n"
     ]
    }
   ],
   "source": [
    "#Total number of passengers\n",
    "print(\"Total number of passengers:\\n\" + str(df.PassengerId.count()))"
   ]
  },
  {
   "cell_type": "code",
   "execution_count": 93,
   "metadata": {},
   "outputs": [
    {
     "name": "stdout",
     "output_type": "stream",
     "text": [
      "Total number of male and female passengers:\n",
      "male      577\n",
      "female    314\n",
      "Name: Sex, dtype: int64\n"
     ]
    }
   ],
   "source": [
    "# male and female passengers count \n",
    "print(\"Total number of male and female passengers:\\n\" + str(df['Sex'].value_counts()))"
   ]
  },
  {
   "cell_type": "code",
   "execution_count": 91,
   "metadata": {},
   "outputs": [
    {
     "name": "stdout",
     "output_type": "stream",
     "text": [
      "Average age of passengers:\n",
      "29.69911764705882\n"
     ]
    }
   ],
   "source": [
    "#Average age of all populations\n",
    "print(\"Average age of passengers:\\n\" + str(df.Age.mean()))"
   ]
  },
  {
   "cell_type": "code",
   "execution_count": 94,
   "metadata": {},
   "outputs": [
    {
     "name": "stdout",
     "output_type": "stream",
     "text": [
      "The Number of Passengers less than age 21 :\n",
      "180\n"
     ]
    }
   ],
   "source": [
    "# Number of Passengers under Age 21\n",
    "child = df[df.Age < 21.00]\n",
    "print(\"The Number of Passengers less than age 21 :\\n\" + str(len(child)))"
   ]
  },
  {
   "cell_type": "code",
   "execution_count": 95,
   "metadata": {},
   "outputs": [
    {
     "name": "stdout",
     "output_type": "stream",
     "text": [
      "Sum of Survived: 549\n",
      "Sum of UnSurvived: 342\n",
      "Sum of males Survived: 109\n",
      "Sum of females Survived: 233\n",
      "Sum of males unSurvived: 468\n",
      "Sum of females UnSurvived: 81\n"
     ]
    }
   ],
   "source": [
    "# Assuming If Survive = 1 as survived and Survived = 0 as Un Survived\n",
    "\n",
    "print(\"Sum of Survived: \"+ str(sum(df[\"Survived\"]==0))) # Number of Survived\n",
    "print(\"Sum of UnSurvived: \"+ str(sum(df[\"Survived\"]==1))) # Number of UnSurvived\n",
    "print(\"Sum of males Survived: \"+ str(sum((df[\"Survived\"]==1) & (df[\"Sex\"]=='male')))) # Number of male's Survived\n",
    "print(\"Sum of females Survived: \"+ str(sum((df[\"Survived\"]==1) & (df[\"Sex\"]=='female')))) # Number of female's Survived\n",
    "print(\"Sum of males unSurvived: \"+ str(sum((df[\"Survived\"]==0) & (df[\"Sex\"]=='male')))) # Number of male's UnSurvived\n",
    "print(\"Sum of females UnSurvived: \"+ str(sum((df[\"Survived\"]==0) & (df[\"Sex\"]=='female')))) # Number of female's UnSurvived"
   ]
  },
  {
   "cell_type": "code",
   "execution_count": 98,
   "metadata": {},
   "outputs": [
    {
     "name": "stdout",
     "output_type": "stream",
     "text": [
      "Youngest age to survive the Titanic mishap is :\n",
      " 0.42 Thomas, Master. Assad Alexander\n"
     ]
    }
   ],
   "source": [
    "# Name and Age of Youngest Age person who is survived\n",
    "df_sur = df[df[\"Survived\"]==1]\n",
    "df_sur = df_sur.loc[df_sur[\"Age\"]==min(df_sur.Age)]\n",
    "print('Youngest age to survive the Titanic mishap is :\\n'+ str(df_sur.Age.to_string(index=False)) + str(df_sur[\"Name\"].to_string(index=False)))"
   ]
  },
  {
   "cell_type": "code",
   "execution_count": 97,
   "metadata": {},
   "outputs": [
    {
     "name": "stdout",
     "output_type": "stream",
     "text": [
      "oldest age to survive the Titanic mishap is :\n",
      "  80.0 Barkworth, Mr. Algernon Henry Wilson\n"
     ]
    }
   ],
   "source": [
    "# Name and Age of Oldest Age person who is survived\n",
    "df_sur = df[df[\"Survived\"]==1]\n",
    "df_sur = df_sur.loc[df_sur[\"Age\"]==max(df_sur.Age)]\n",
    "print('oldest age to survive the Titanic mishap is :\\n '+ str(df_sur.Age.to_string(index=False)) + str(df_sur[\"Name\"].to_string(index=False)))"
   ]
  },
  {
   "cell_type": "code",
   "execution_count": 68,
   "metadata": {},
   "outputs": [
    {
     "name": "stdout",
     "output_type": "stream",
     "text": [
      "\n",
      "g) Names of all the people who survived:\n",
      "1      Cumings, Mrs. John Bradley (Florence Briggs Th...\n",
      "2                                 Heikkinen, Miss. Laina\n",
      "3           Futrelle, Mrs. Jacques Heath (Lily May Peel)\n",
      "8      Johnson, Mrs. Oscar W (Elisabeth Vilhelmina Berg)\n",
      "9                    Nasser, Mrs. Nicholas (Adele Achem)\n",
      "                             ...                        \n",
      "875                     Najib, Miss. Adele Kiamie \"Jane\"\n",
      "879        Potter, Mrs. Thomas Jr (Lily Alexenia Wilson)\n",
      "880         Shelley, Mrs. William (Imanita Parrish Hall)\n",
      "887                         Graham, Miss. Margaret Edith\n",
      "889                                Behr, Mr. Karl Howell\n",
      "Name: Name, Length: 342, dtype: object\n"
     ]
    }
   ],
   "source": [
    "# Names of people who are survived\n",
    "print('\\ng) Names of all the people who survived:\\n'+ str(df.loc[(df['Survived']==1), 'Name']))"
   ]
  },
  {
   "cell_type": "code",
   "execution_count": null,
   "metadata": {},
   "outputs": [],
   "source": []
  }
 ],
 "metadata": {
  "kernelspec": {
   "display_name": "Python 3",
   "language": "python",
   "name": "python3"
  },
  "language_info": {
   "codemirror_mode": {
    "name": "ipython",
    "version": 3
   },
   "file_extension": ".py",
   "mimetype": "text/x-python",
   "name": "python",
   "nbconvert_exporter": "python",
   "pygments_lexer": "ipython3",
   "version": "3.7.4"
  }
 },
 "nbformat": 4,
 "nbformat_minor": 2
}
